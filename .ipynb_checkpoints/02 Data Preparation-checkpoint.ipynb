{
 "cells": [
  {
   "cell_type": "markdown",
   "metadata": {},
   "source": [
    "# Gender Recognition by Voice | 02 | Data Preparation"
   ]
  },
  {
   "cell_type": "code",
   "execution_count": 1,
   "metadata": {
    "collapsed": true
   },
   "outputs": [],
   "source": [
    "import obj\n",
    "import numpy as np\n",
    "import pandas as pd\n",
    "import matplotlib.pyplot as plt\n",
    "import seaborn as sns"
   ]
  },
  {
   "cell_type": "code",
   "execution_count": 7,
   "metadata": {
    "collapsed": true
   },
   "outputs": [],
   "source": [
    "%matplotlib inline\n",
    "sns.set_style('whitegrid')"
   ]
  },
  {
   "cell_type": "code",
   "execution_count": 2,
   "metadata": {
    "collapsed": false
   },
   "outputs": [],
   "source": [
    "data_raw = obj.load('var/data_raw')"
   ]
  },
  {
   "cell_type": "code",
   "execution_count": 3,
   "metadata": {
    "collapsed": false
   },
   "outputs": [
    {
     "data": {
      "text/html": [
       "<div>\n",
       "<table border=\"1\" class=\"dataframe\">\n",
       "  <thead>\n",
       "    <tr style=\"text-align: right;\">\n",
       "      <th></th>\n",
       "      <th>meanfreq</th>\n",
       "      <th>sd</th>\n",
       "      <th>median</th>\n",
       "      <th>Q25</th>\n",
       "      <th>Q75</th>\n",
       "      <th>IQR</th>\n",
       "      <th>skew</th>\n",
       "      <th>kurt</th>\n",
       "      <th>sp.ent</th>\n",
       "      <th>sfm</th>\n",
       "      <th>...</th>\n",
       "      <th>centroid</th>\n",
       "      <th>meanfun</th>\n",
       "      <th>minfun</th>\n",
       "      <th>maxfun</th>\n",
       "      <th>meandom</th>\n",
       "      <th>mindom</th>\n",
       "      <th>maxdom</th>\n",
       "      <th>dfrange</th>\n",
       "      <th>modindx</th>\n",
       "      <th>label</th>\n",
       "    </tr>\n",
       "  </thead>\n",
       "  <tbody>\n",
       "    <tr>\n",
       "      <th>0</th>\n",
       "      <td>0.059781</td>\n",
       "      <td>0.064241</td>\n",
       "      <td>0.032027</td>\n",
       "      <td>0.015071</td>\n",
       "      <td>0.090193</td>\n",
       "      <td>0.075122</td>\n",
       "      <td>12.863462</td>\n",
       "      <td>274.402906</td>\n",
       "      <td>0.893369</td>\n",
       "      <td>0.491918</td>\n",
       "      <td>...</td>\n",
       "      <td>0.059781</td>\n",
       "      <td>0.084279</td>\n",
       "      <td>0.015702</td>\n",
       "      <td>0.275862</td>\n",
       "      <td>0.007812</td>\n",
       "      <td>0.007812</td>\n",
       "      <td>0.007812</td>\n",
       "      <td>0.000000</td>\n",
       "      <td>0.000000</td>\n",
       "      <td>male</td>\n",
       "    </tr>\n",
       "    <tr>\n",
       "      <th>1</th>\n",
       "      <td>0.066009</td>\n",
       "      <td>0.067310</td>\n",
       "      <td>0.040229</td>\n",
       "      <td>0.019414</td>\n",
       "      <td>0.092666</td>\n",
       "      <td>0.073252</td>\n",
       "      <td>22.423285</td>\n",
       "      <td>634.613855</td>\n",
       "      <td>0.892193</td>\n",
       "      <td>0.513724</td>\n",
       "      <td>...</td>\n",
       "      <td>0.066009</td>\n",
       "      <td>0.107937</td>\n",
       "      <td>0.015826</td>\n",
       "      <td>0.250000</td>\n",
       "      <td>0.009014</td>\n",
       "      <td>0.007812</td>\n",
       "      <td>0.054688</td>\n",
       "      <td>0.046875</td>\n",
       "      <td>0.052632</td>\n",
       "      <td>male</td>\n",
       "    </tr>\n",
       "    <tr>\n",
       "      <th>2</th>\n",
       "      <td>0.077316</td>\n",
       "      <td>0.083829</td>\n",
       "      <td>0.036718</td>\n",
       "      <td>0.008701</td>\n",
       "      <td>0.131908</td>\n",
       "      <td>0.123207</td>\n",
       "      <td>30.757155</td>\n",
       "      <td>1024.927705</td>\n",
       "      <td>0.846389</td>\n",
       "      <td>0.478905</td>\n",
       "      <td>...</td>\n",
       "      <td>0.077316</td>\n",
       "      <td>0.098706</td>\n",
       "      <td>0.015656</td>\n",
       "      <td>0.271186</td>\n",
       "      <td>0.007990</td>\n",
       "      <td>0.007812</td>\n",
       "      <td>0.015625</td>\n",
       "      <td>0.007812</td>\n",
       "      <td>0.046512</td>\n",
       "      <td>male</td>\n",
       "    </tr>\n",
       "    <tr>\n",
       "      <th>3</th>\n",
       "      <td>0.151228</td>\n",
       "      <td>0.072111</td>\n",
       "      <td>0.158011</td>\n",
       "      <td>0.096582</td>\n",
       "      <td>0.207955</td>\n",
       "      <td>0.111374</td>\n",
       "      <td>1.232831</td>\n",
       "      <td>4.177296</td>\n",
       "      <td>0.963322</td>\n",
       "      <td>0.727232</td>\n",
       "      <td>...</td>\n",
       "      <td>0.151228</td>\n",
       "      <td>0.088965</td>\n",
       "      <td>0.017798</td>\n",
       "      <td>0.250000</td>\n",
       "      <td>0.201497</td>\n",
       "      <td>0.007812</td>\n",
       "      <td>0.562500</td>\n",
       "      <td>0.554688</td>\n",
       "      <td>0.247119</td>\n",
       "      <td>male</td>\n",
       "    </tr>\n",
       "    <tr>\n",
       "      <th>4</th>\n",
       "      <td>0.135120</td>\n",
       "      <td>0.079146</td>\n",
       "      <td>0.124656</td>\n",
       "      <td>0.078720</td>\n",
       "      <td>0.206045</td>\n",
       "      <td>0.127325</td>\n",
       "      <td>1.101174</td>\n",
       "      <td>4.333713</td>\n",
       "      <td>0.971955</td>\n",
       "      <td>0.783568</td>\n",
       "      <td>...</td>\n",
       "      <td>0.135120</td>\n",
       "      <td>0.106398</td>\n",
       "      <td>0.016931</td>\n",
       "      <td>0.266667</td>\n",
       "      <td>0.712812</td>\n",
       "      <td>0.007812</td>\n",
       "      <td>5.484375</td>\n",
       "      <td>5.476562</td>\n",
       "      <td>0.208274</td>\n",
       "      <td>male</td>\n",
       "    </tr>\n",
       "  </tbody>\n",
       "</table>\n",
       "<p>5 rows × 21 columns</p>\n",
       "</div>"
      ],
      "text/plain": [
       "   meanfreq        sd    median       Q25       Q75       IQR       skew  \\\n",
       "0  0.059781  0.064241  0.032027  0.015071  0.090193  0.075122  12.863462   \n",
       "1  0.066009  0.067310  0.040229  0.019414  0.092666  0.073252  22.423285   \n",
       "2  0.077316  0.083829  0.036718  0.008701  0.131908  0.123207  30.757155   \n",
       "3  0.151228  0.072111  0.158011  0.096582  0.207955  0.111374   1.232831   \n",
       "4  0.135120  0.079146  0.124656  0.078720  0.206045  0.127325   1.101174   \n",
       "\n",
       "          kurt    sp.ent       sfm  ...    centroid   meanfun    minfun  \\\n",
       "0   274.402906  0.893369  0.491918  ...    0.059781  0.084279  0.015702   \n",
       "1   634.613855  0.892193  0.513724  ...    0.066009  0.107937  0.015826   \n",
       "2  1024.927705  0.846389  0.478905  ...    0.077316  0.098706  0.015656   \n",
       "3     4.177296  0.963322  0.727232  ...    0.151228  0.088965  0.017798   \n",
       "4     4.333713  0.971955  0.783568  ...    0.135120  0.106398  0.016931   \n",
       "\n",
       "     maxfun   meandom    mindom    maxdom   dfrange   modindx  label  \n",
       "0  0.275862  0.007812  0.007812  0.007812  0.000000  0.000000   male  \n",
       "1  0.250000  0.009014  0.007812  0.054688  0.046875  0.052632   male  \n",
       "2  0.271186  0.007990  0.007812  0.015625  0.007812  0.046512   male  \n",
       "3  0.250000  0.201497  0.007812  0.562500  0.554688  0.247119   male  \n",
       "4  0.266667  0.712812  0.007812  5.484375  5.476562  0.208274   male  \n",
       "\n",
       "[5 rows x 21 columns]"
      ]
     },
     "execution_count": 3,
     "metadata": {},
     "output_type": "execute_result"
    }
   ],
   "source": [
    "data_raw.head()"
   ]
  },
  {
   "cell_type": "markdown",
   "metadata": {},
   "source": [
    "## Scale Data"
   ]
  },
  {
   "cell_type": "code",
   "execution_count": 14,
   "metadata": {
    "collapsed": true
   },
   "outputs": [],
   "source": [
    "from sklearn.preprocessing import StandardScaler"
   ]
  },
  {
   "cell_type": "code",
   "execution_count": 18,
   "metadata": {
    "collapsed": true
   },
   "outputs": [],
   "source": [
    "feat_raw = data_raw.drop('label',axis=1)\n",
    "label    = data_raw['label']"
   ]
  },
  {
   "cell_type": "code",
   "execution_count": 19,
   "metadata": {
    "collapsed": true
   },
   "outputs": [],
   "source": [
    "scaler = StandardScaler()"
   ]
  },
  {
   "cell_type": "code",
   "execution_count": 20,
   "metadata": {
    "collapsed": false
   },
   "outputs": [
    {
     "data": {
      "text/plain": [
       "StandardScaler(copy=True, with_mean=True, with_std=True)"
      ]
     },
     "execution_count": 20,
     "metadata": {},
     "output_type": "execute_result"
    }
   ],
   "source": [
    "scaler.fit(feat_raw)"
   ]
  },
  {
   "cell_type": "code",
   "execution_count": 25,
   "metadata": {
    "collapsed": false
   },
   "outputs": [],
   "source": [
    "feat_scale = scaler.transform(feat_raw)\n",
    "feat_scale = pd.DataFrame(feat_scale, columns=feat_raw.columns)"
   ]
  },
  {
   "cell_type": "code",
   "execution_count": 26,
   "metadata": {
    "collapsed": false
   },
   "outputs": [
    {
     "data": {
      "text/html": [
       "<div>\n",
       "<table border=\"1\" class=\"dataframe\">\n",
       "  <thead>\n",
       "    <tr style=\"text-align: right;\">\n",
       "      <th></th>\n",
       "      <th>meanfreq</th>\n",
       "      <th>sd</th>\n",
       "      <th>median</th>\n",
       "      <th>Q25</th>\n",
       "      <th>Q75</th>\n",
       "      <th>IQR</th>\n",
       "      <th>skew</th>\n",
       "      <th>kurt</th>\n",
       "      <th>sp.ent</th>\n",
       "      <th>sfm</th>\n",
       "      <th>mode</th>\n",
       "      <th>centroid</th>\n",
       "      <th>meanfun</th>\n",
       "      <th>minfun</th>\n",
       "      <th>maxfun</th>\n",
       "      <th>meandom</th>\n",
       "      <th>mindom</th>\n",
       "      <th>maxdom</th>\n",
       "      <th>dfrange</th>\n",
       "      <th>modindx</th>\n",
       "    </tr>\n",
       "  </thead>\n",
       "  <tbody>\n",
       "    <tr>\n",
       "      <th>0</th>\n",
       "      <td>-4.049248</td>\n",
       "      <td>0.427355</td>\n",
       "      <td>-4.224901</td>\n",
       "      <td>-2.576102</td>\n",
       "      <td>-5.693607</td>\n",
       "      <td>-0.214778</td>\n",
       "      <td>2.293306</td>\n",
       "      <td>1.762946</td>\n",
       "      <td>-0.039083</td>\n",
       "      <td>0.471575</td>\n",
       "      <td>-2.141210</td>\n",
       "      <td>-4.049248</td>\n",
       "      <td>-1.812038</td>\n",
       "      <td>-1.097998</td>\n",
       "      <td>0.565959</td>\n",
       "      <td>-1.564205</td>\n",
       "      <td>-0.708404</td>\n",
       "      <td>-1.431422</td>\n",
       "      <td>-1.419137</td>\n",
       "      <td>-1.454772</td>\n",
       "    </tr>\n",
       "    <tr>\n",
       "      <th>1</th>\n",
       "      <td>-3.841053</td>\n",
       "      <td>0.611669</td>\n",
       "      <td>-3.999293</td>\n",
       "      <td>-2.486885</td>\n",
       "      <td>-5.588987</td>\n",
       "      <td>-0.258485</td>\n",
       "      <td>4.548056</td>\n",
       "      <td>4.433008</td>\n",
       "      <td>-0.065236</td>\n",
       "      <td>0.594431</td>\n",
       "      <td>-2.141210</td>\n",
       "      <td>-3.841053</td>\n",
       "      <td>-1.079594</td>\n",
       "      <td>-1.091533</td>\n",
       "      <td>-0.294030</td>\n",
       "      <td>-1.561916</td>\n",
       "      <td>-0.708404</td>\n",
       "      <td>-1.418107</td>\n",
       "      <td>-1.405818</td>\n",
       "      <td>-1.014103</td>\n",
       "    </tr>\n",
       "    <tr>\n",
       "      <th>2</th>\n",
       "      <td>-3.463066</td>\n",
       "      <td>1.603848</td>\n",
       "      <td>-4.095851</td>\n",
       "      <td>-2.706986</td>\n",
       "      <td>-3.928699</td>\n",
       "      <td>0.909326</td>\n",
       "      <td>6.513656</td>\n",
       "      <td>7.326207</td>\n",
       "      <td>-1.083730</td>\n",
       "      <td>0.398261</td>\n",
       "      <td>-2.141210</td>\n",
       "      <td>-3.463066</td>\n",
       "      <td>-1.365368</td>\n",
       "      <td>-1.100397</td>\n",
       "      <td>0.410480</td>\n",
       "      <td>-1.563866</td>\n",
       "      <td>-0.708404</td>\n",
       "      <td>-1.429203</td>\n",
       "      <td>-1.416917</td>\n",
       "      <td>-1.065344</td>\n",
       "    </tr>\n",
       "    <tr>\n",
       "      <th>3</th>\n",
       "      <td>-0.992157</td>\n",
       "      <td>0.899998</td>\n",
       "      <td>-0.759454</td>\n",
       "      <td>-0.901418</td>\n",
       "      <td>-0.711205</td>\n",
       "      <td>0.632690</td>\n",
       "      <td>-0.449858</td>\n",
       "      <td>-0.240099</td>\n",
       "      <td>1.516383</td>\n",
       "      <td>1.797340</td>\n",
       "      <td>-1.054576</td>\n",
       "      <td>-0.992157</td>\n",
       "      <td>-1.666966</td>\n",
       "      <td>-0.988934</td>\n",
       "      <td>-0.294030</td>\n",
       "      <td>-1.195367</td>\n",
       "      <td>-0.708404</td>\n",
       "      <td>-1.273867</td>\n",
       "      <td>-1.261532</td>\n",
       "      <td>0.614286</td>\n",
       "    </tr>\n",
       "    <tr>\n",
       "      <th>4</th>\n",
       "      <td>-1.530640</td>\n",
       "      <td>1.322561</td>\n",
       "      <td>-1.676948</td>\n",
       "      <td>-1.268395</td>\n",
       "      <td>-0.792029</td>\n",
       "      <td>1.005588</td>\n",
       "      <td>-0.480911</td>\n",
       "      <td>-0.238940</td>\n",
       "      <td>1.708336</td>\n",
       "      <td>2.114740</td>\n",
       "      <td>-0.790514</td>\n",
       "      <td>-1.530640</td>\n",
       "      <td>-1.127233</td>\n",
       "      <td>-1.034015</td>\n",
       "      <td>0.260185</td>\n",
       "      <td>-0.221660</td>\n",
       "      <td>-0.708404</td>\n",
       "      <td>0.124154</td>\n",
       "      <td>0.136933</td>\n",
       "      <td>0.289046</td>\n",
       "    </tr>\n",
       "  </tbody>\n",
       "</table>\n",
       "</div>"
      ],
      "text/plain": [
       "   meanfreq        sd    median       Q25       Q75       IQR      skew  \\\n",
       "0 -4.049248  0.427355 -4.224901 -2.576102 -5.693607 -0.214778  2.293306   \n",
       "1 -3.841053  0.611669 -3.999293 -2.486885 -5.588987 -0.258485  4.548056   \n",
       "2 -3.463066  1.603848 -4.095851 -2.706986 -3.928699  0.909326  6.513656   \n",
       "3 -0.992157  0.899998 -0.759454 -0.901418 -0.711205  0.632690 -0.449858   \n",
       "4 -1.530640  1.322561 -1.676948 -1.268395 -0.792029  1.005588 -0.480911   \n",
       "\n",
       "       kurt    sp.ent       sfm      mode  centroid   meanfun    minfun  \\\n",
       "0  1.762946 -0.039083  0.471575 -2.141210 -4.049248 -1.812038 -1.097998   \n",
       "1  4.433008 -0.065236  0.594431 -2.141210 -3.841053 -1.079594 -1.091533   \n",
       "2  7.326207 -1.083730  0.398261 -2.141210 -3.463066 -1.365368 -1.100397   \n",
       "3 -0.240099  1.516383  1.797340 -1.054576 -0.992157 -1.666966 -0.988934   \n",
       "4 -0.238940  1.708336  2.114740 -0.790514 -1.530640 -1.127233 -1.034015   \n",
       "\n",
       "     maxfun   meandom    mindom    maxdom   dfrange   modindx  \n",
       "0  0.565959 -1.564205 -0.708404 -1.431422 -1.419137 -1.454772  \n",
       "1 -0.294030 -1.561916 -0.708404 -1.418107 -1.405818 -1.014103  \n",
       "2  0.410480 -1.563866 -0.708404 -1.429203 -1.416917 -1.065344  \n",
       "3 -0.294030 -1.195367 -0.708404 -1.273867 -1.261532  0.614286  \n",
       "4  0.260185 -0.221660 -0.708404  0.124154  0.136933  0.289046  "
      ]
     },
     "execution_count": 26,
     "metadata": {},
     "output_type": "execute_result"
    }
   ],
   "source": [
    "feat_scale.head()"
   ]
  },
  {
   "cell_type": "code",
   "execution_count": null,
   "metadata": {
    "collapsed": true
   },
   "outputs": [],
   "source": [
    "data_scale = pd.concat([feat_scale,label], axis=1)"
   ]
  },
  {
   "cell_type": "markdown",
   "metadata": {},
   "source": [
    "## Remove Correlated Data"
   ]
  },
  {
   "cell_type": "code",
   "execution_count": 5,
   "metadata": {
    "collapsed": false
   },
   "outputs": [
    {
     "data": {
      "text/html": [
       "<div>\n",
       "<table border=\"1\" class=\"dataframe\">\n",
       "  <thead>\n",
       "    <tr style=\"text-align: right;\">\n",
       "      <th></th>\n",
       "      <th>meanfreq</th>\n",
       "      <th>sd</th>\n",
       "      <th>median</th>\n",
       "      <th>Q25</th>\n",
       "      <th>Q75</th>\n",
       "      <th>skew</th>\n",
       "      <th>sp.ent</th>\n",
       "      <th>sfm</th>\n",
       "      <th>mode</th>\n",
       "      <th>meanfun</th>\n",
       "      <th>minfun</th>\n",
       "      <th>maxfun</th>\n",
       "      <th>meandom</th>\n",
       "      <th>mindom</th>\n",
       "      <th>maxdom</th>\n",
       "      <th>modindx</th>\n",
       "      <th>label</th>\n",
       "    </tr>\n",
       "  </thead>\n",
       "  <tbody>\n",
       "    <tr>\n",
       "      <th>0</th>\n",
       "      <td>-4.049248</td>\n",
       "      <td>0.427355</td>\n",
       "      <td>-4.224901</td>\n",
       "      <td>-2.576102</td>\n",
       "      <td>-5.693607</td>\n",
       "      <td>2.293306</td>\n",
       "      <td>-0.039083</td>\n",
       "      <td>0.471575</td>\n",
       "      <td>-2.141210</td>\n",
       "      <td>-1.812038</td>\n",
       "      <td>-1.097998</td>\n",
       "      <td>0.565959</td>\n",
       "      <td>-1.564205</td>\n",
       "      <td>-0.708404</td>\n",
       "      <td>-1.431422</td>\n",
       "      <td>-1.454772</td>\n",
       "      <td>male</td>\n",
       "    </tr>\n",
       "    <tr>\n",
       "      <th>1</th>\n",
       "      <td>-3.841053</td>\n",
       "      <td>0.611669</td>\n",
       "      <td>-3.999293</td>\n",
       "      <td>-2.486885</td>\n",
       "      <td>-5.588987</td>\n",
       "      <td>4.548056</td>\n",
       "      <td>-0.065236</td>\n",
       "      <td>0.594431</td>\n",
       "      <td>-2.141210</td>\n",
       "      <td>-1.079594</td>\n",
       "      <td>-1.091533</td>\n",
       "      <td>-0.294030</td>\n",
       "      <td>-1.561916</td>\n",
       "      <td>-0.708404</td>\n",
       "      <td>-1.418107</td>\n",
       "      <td>-1.014103</td>\n",
       "      <td>male</td>\n",
       "    </tr>\n",
       "    <tr>\n",
       "      <th>2</th>\n",
       "      <td>-3.463066</td>\n",
       "      <td>1.603848</td>\n",
       "      <td>-4.095851</td>\n",
       "      <td>-2.706986</td>\n",
       "      <td>-3.928699</td>\n",
       "      <td>6.513656</td>\n",
       "      <td>-1.083730</td>\n",
       "      <td>0.398261</td>\n",
       "      <td>-2.141210</td>\n",
       "      <td>-1.365368</td>\n",
       "      <td>-1.100397</td>\n",
       "      <td>0.410480</td>\n",
       "      <td>-1.563866</td>\n",
       "      <td>-0.708404</td>\n",
       "      <td>-1.429203</td>\n",
       "      <td>-1.065344</td>\n",
       "      <td>male</td>\n",
       "    </tr>\n",
       "    <tr>\n",
       "      <th>3</th>\n",
       "      <td>-0.992157</td>\n",
       "      <td>0.899998</td>\n",
       "      <td>-0.759454</td>\n",
       "      <td>-0.901418</td>\n",
       "      <td>-0.711205</td>\n",
       "      <td>-0.449858</td>\n",
       "      <td>1.516383</td>\n",
       "      <td>1.797340</td>\n",
       "      <td>-1.054576</td>\n",
       "      <td>-1.666966</td>\n",
       "      <td>-0.988934</td>\n",
       "      <td>-0.294030</td>\n",
       "      <td>-1.195367</td>\n",
       "      <td>-0.708404</td>\n",
       "      <td>-1.273867</td>\n",
       "      <td>0.614286</td>\n",
       "      <td>male</td>\n",
       "    </tr>\n",
       "    <tr>\n",
       "      <th>4</th>\n",
       "      <td>-1.530640</td>\n",
       "      <td>1.322561</td>\n",
       "      <td>-1.676948</td>\n",
       "      <td>-1.268395</td>\n",
       "      <td>-0.792029</td>\n",
       "      <td>-0.480911</td>\n",
       "      <td>1.708336</td>\n",
       "      <td>2.114740</td>\n",
       "      <td>-0.790514</td>\n",
       "      <td>-1.127233</td>\n",
       "      <td>-1.034015</td>\n",
       "      <td>0.260185</td>\n",
       "      <td>-0.221660</td>\n",
       "      <td>-0.708404</td>\n",
       "      <td>0.124154</td>\n",
       "      <td>0.289046</td>\n",
       "      <td>male</td>\n",
       "    </tr>\n",
       "  </tbody>\n",
       "</table>\n",
       "</div>"
      ],
      "text/plain": [
       "   meanfreq        sd    median       Q25       Q75      skew    sp.ent  \\\n",
       "0 -4.049248  0.427355 -4.224901 -2.576102 -5.693607  2.293306 -0.039083   \n",
       "1 -3.841053  0.611669 -3.999293 -2.486885 -5.588987  4.548056 -0.065236   \n",
       "2 -3.463066  1.603848 -4.095851 -2.706986 -3.928699  6.513656 -1.083730   \n",
       "3 -0.992157  0.899998 -0.759454 -0.901418 -0.711205 -0.449858  1.516383   \n",
       "4 -1.530640  1.322561 -1.676948 -1.268395 -0.792029 -0.480911  1.708336   \n",
       "\n",
       "        sfm      mode   meanfun    minfun    maxfun   meandom    mindom  \\\n",
       "0  0.471575 -2.141210 -1.812038 -1.097998  0.565959 -1.564205 -0.708404   \n",
       "1  0.594431 -2.141210 -1.079594 -1.091533 -0.294030 -1.561916 -0.708404   \n",
       "2  0.398261 -2.141210 -1.365368 -1.100397  0.410480 -1.563866 -0.708404   \n",
       "3  1.797340 -1.054576 -1.666966 -0.988934 -0.294030 -1.195367 -0.708404   \n",
       "4  2.114740 -0.790514 -1.127233 -1.034015  0.260185 -0.221660 -0.708404   \n",
       "\n",
       "     maxdom   modindx label  \n",
       "0 -1.431422 -1.454772  male  \n",
       "1 -1.418107 -1.014103  male  \n",
       "2 -1.429203 -1.065344  male  \n",
       "3 -1.273867  0.614286  male  \n",
       "4  0.124154  0.289046  male  "
      ]
     },
     "execution_count": 5,
     "metadata": {},
     "output_type": "execute_result"
    }
   ],
   "source": [
    "data_scaleNoCorr = data_scale.drop(['kurt','centroid','dfrange','IQR'], axis=1)\n",
    "data_scaleNoCorr.head()"
   ]
  },
  {
   "cell_type": "code",
   "execution_count": 8,
   "metadata": {
    "collapsed": false
   },
   "outputs": [
    {
     "data": {
      "image/png": "[encoded data removed]",
      "text/plain": [
       "<matplotlib.figure.Figure at 0x1da8b2bea90>"
      ]
     },
     "metadata": {},
     "output_type": "display_data"
    }
   ],
   "source": [
    "fig = sns.clustermap(data_scaleNoCorr.corr(), cmap='coolwarm')\n",
    "for text in fig.ax_heatmap.get_yticklabels():\n",
    "    text.set_rotation('horizontal')"
   ]
  },
  {
   "cell_type": "markdown",
   "metadata": {},
   "source": [
    "## Output data"
   ]
  },
  {
   "cell_type": "code",
   "execution_count": 10,
   "metadata": {
    "collapsed": false
   },
   "outputs": [],
   "source": [
    "obj.save(data_scale,       'var/data_scale')\n",
    "obj.save(data_scaleNoCorr, 'var/data_scaleNoCorr')"
   ]
  }
 ],
 "metadata": {
  "anaconda-cloud": {},
  "kernelspec": {
   "display_name": "Python [conda root]",
   "language": "python",
   "name": "conda-root-py"
  },
  "language_info": {
   "codemirror_mode": {
    "name": "ipython",
    "version": 3
   },
   "file_extension": ".py",
   "mimetype": "text/x-python",
   "name": "python",
   "nbconvert_exporter": "python",
   "pygments_lexer": "ipython3",
   "version": "3.5.2"
  }
 },
 "nbformat": 4,
 "nbformat_minor": 1
}
