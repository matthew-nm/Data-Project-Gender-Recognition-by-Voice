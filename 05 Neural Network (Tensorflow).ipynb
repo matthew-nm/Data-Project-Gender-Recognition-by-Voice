{
 "cells": [
  {
   "cell_type": "markdown",
   "metadata": {},
   "source": [
    "# Gender Recognition by Voice | 05 | Tensorflow Neural Network"
   ]
  },
  {
   "cell_type": "code",
   "execution_count": 1,
   "metadata": {
    "collapsed": true
   },
   "outputs": [],
   "source": [
    "import obj\n",
    "import numpy as np\n",
    "import pandas as pd\n",
    "import matplotlib.pyplot as plt\n",
    "import seaborn as sns"
   ]
  },
  {
   "cell_type": "code",
   "execution_count": 2,
   "metadata": {
    "collapsed": true
   },
   "outputs": [],
   "source": [
    "%matplotlib inline\n",
    "sns.set_style('whitegrid')"
   ]
  },
  {
   "cell_type": "code",
   "execution_count": 3,
   "metadata": {
    "collapsed": true
   },
   "outputs": [],
   "source": [
    "data_scale = obj.load('var/data_scale')"
   ]
  },
  {
   "cell_type": "code",
   "execution_count": 4,
   "metadata": {
    "collapsed": false
   },
   "outputs": [
    {
     "data": {
      "text/html": [
       "<div>\n",
       "<table border=\"1\" class=\"dataframe\">\n",
       "  <thead>\n",
       "    <tr style=\"text-align: right;\">\n",
       "      <th></th>\n",
       "      <th>meanfreq</th>\n",
       "      <th>sd</th>\n",
       "      <th>median</th>\n",
       "      <th>Q25</th>\n",
       "      <th>Q75</th>\n",
       "      <th>IQR</th>\n",
       "      <th>skew</th>\n",
       "      <th>kurt</th>\n",
       "      <th>sp.ent</th>\n",
       "      <th>sfm</th>\n",
       "      <th>...</th>\n",
       "      <th>centroid</th>\n",
       "      <th>meanfun</th>\n",
       "      <th>minfun</th>\n",
       "      <th>maxfun</th>\n",
       "      <th>meandom</th>\n",
       "      <th>mindom</th>\n",
       "      <th>maxdom</th>\n",
       "      <th>dfrange</th>\n",
       "      <th>modindx</th>\n",
       "      <th>label</th>\n",
       "    </tr>\n",
       "  </thead>\n",
       "  <tbody>\n",
       "    <tr>\n",
       "      <th>0</th>\n",
       "      <td>-4.049248</td>\n",
       "      <td>0.427355</td>\n",
       "      <td>-4.224901</td>\n",
       "      <td>-2.576102</td>\n",
       "      <td>-5.693607</td>\n",
       "      <td>-0.214778</td>\n",
       "      <td>2.293306</td>\n",
       "      <td>1.762946</td>\n",
       "      <td>-0.039083</td>\n",
       "      <td>0.471575</td>\n",
       "      <td>...</td>\n",
       "      <td>-4.049248</td>\n",
       "      <td>-1.812038</td>\n",
       "      <td>-1.097998</td>\n",
       "      <td>0.565959</td>\n",
       "      <td>-1.564205</td>\n",
       "      <td>-0.708404</td>\n",
       "      <td>-1.431422</td>\n",
       "      <td>-1.419137</td>\n",
       "      <td>-1.454772</td>\n",
       "      <td>male</td>\n",
       "    </tr>\n",
       "    <tr>\n",
       "      <th>1</th>\n",
       "      <td>-3.841053</td>\n",
       "      <td>0.611669</td>\n",
       "      <td>-3.999293</td>\n",
       "      <td>-2.486885</td>\n",
       "      <td>-5.588987</td>\n",
       "      <td>-0.258485</td>\n",
       "      <td>4.548056</td>\n",
       "      <td>4.433008</td>\n",
       "      <td>-0.065236</td>\n",
       "      <td>0.594431</td>\n",
       "      <td>...</td>\n",
       "      <td>-3.841053</td>\n",
       "      <td>-1.079594</td>\n",
       "      <td>-1.091533</td>\n",
       "      <td>-0.294030</td>\n",
       "      <td>-1.561916</td>\n",
       "      <td>-0.708404</td>\n",
       "      <td>-1.418107</td>\n",
       "      <td>-1.405818</td>\n",
       "      <td>-1.014103</td>\n",
       "      <td>male</td>\n",
       "    </tr>\n",
       "    <tr>\n",
       "      <th>2</th>\n",
       "      <td>-3.463066</td>\n",
       "      <td>1.603848</td>\n",
       "      <td>-4.095851</td>\n",
       "      <td>-2.706986</td>\n",
       "      <td>-3.928699</td>\n",
       "      <td>0.909326</td>\n",
       "      <td>6.513656</td>\n",
       "      <td>7.326207</td>\n",
       "      <td>-1.083730</td>\n",
       "      <td>0.398261</td>\n",
       "      <td>...</td>\n",
       "      <td>-3.463066</td>\n",
       "      <td>-1.365368</td>\n",
       "      <td>-1.100397</td>\n",
       "      <td>0.410480</td>\n",
       "      <td>-1.563866</td>\n",
       "      <td>-0.708404</td>\n",
       "      <td>-1.429203</td>\n",
       "      <td>-1.416917</td>\n",
       "      <td>-1.065344</td>\n",
       "      <td>male</td>\n",
       "    </tr>\n",
       "    <tr>\n",
       "      <th>3</th>\n",
       "      <td>-0.992157</td>\n",
       "      <td>0.899998</td>\n",
       "      <td>-0.759454</td>\n",
       "      <td>-0.901418</td>\n",
       "      <td>-0.711205</td>\n",
       "      <td>0.632690</td>\n",
       "      <td>-0.449858</td>\n",
       "      <td>-0.240099</td>\n",
       "      <td>1.516383</td>\n",
       "      <td>1.797340</td>\n",
       "      <td>...</td>\n",
       "      <td>-0.992157</td>\n",
       "      <td>-1.666966</td>\n",
       "      <td>-0.988934</td>\n",
       "      <td>-0.294030</td>\n",
       "      <td>-1.195367</td>\n",
       "      <td>-0.708404</td>\n",
       "      <td>-1.273867</td>\n",
       "      <td>-1.261532</td>\n",
       "      <td>0.614286</td>\n",
       "      <td>male</td>\n",
       "    </tr>\n",
       "    <tr>\n",
       "      <th>4</th>\n",
       "      <td>-1.530640</td>\n",
       "      <td>1.322561</td>\n",
       "      <td>-1.676948</td>\n",
       "      <td>-1.268395</td>\n",
       "      <td>-0.792029</td>\n",
       "      <td>1.005588</td>\n",
       "      <td>-0.480911</td>\n",
       "      <td>-0.238940</td>\n",
       "      <td>1.708336</td>\n",
       "      <td>2.114740</td>\n",
       "      <td>...</td>\n",
       "      <td>-1.530640</td>\n",
       "      <td>-1.127233</td>\n",
       "      <td>-1.034015</td>\n",
       "      <td>0.260185</td>\n",
       "      <td>-0.221660</td>\n",
       "      <td>-0.708404</td>\n",
       "      <td>0.124154</td>\n",
       "      <td>0.136933</td>\n",
       "      <td>0.289046</td>\n",
       "      <td>male</td>\n",
       "    </tr>\n",
       "  </tbody>\n",
       "</table>\n",
       "<p>5 rows × 21 columns</p>\n",
       "</div>"
      ],
      "text/plain": [
       "   meanfreq        sd    median       Q25       Q75       IQR      skew  \\\n",
       "0 -4.049248  0.427355 -4.224901 -2.576102 -5.693607 -0.214778  2.293306   \n",
       "1 -3.841053  0.611669 -3.999293 -2.486885 -5.588987 -0.258485  4.548056   \n",
       "2 -3.463066  1.603848 -4.095851 -2.706986 -3.928699  0.909326  6.513656   \n",
       "3 -0.992157  0.899998 -0.759454 -0.901418 -0.711205  0.632690 -0.449858   \n",
       "4 -1.530640  1.322561 -1.676948 -1.268395 -0.792029  1.005588 -0.480911   \n",
       "\n",
       "       kurt    sp.ent       sfm  ...    centroid   meanfun    minfun  \\\n",
       "0  1.762946 -0.039083  0.471575  ...   -4.049248 -1.812038 -1.097998   \n",
       "1  4.433008 -0.065236  0.594431  ...   -3.841053 -1.079594 -1.091533   \n",
       "2  7.326207 -1.083730  0.398261  ...   -3.463066 -1.365368 -1.100397   \n",
       "3 -0.240099  1.516383  1.797340  ...   -0.992157 -1.666966 -0.988934   \n",
       "4 -0.238940  1.708336  2.114740  ...   -1.530640 -1.127233 -1.034015   \n",
       "\n",
       "     maxfun   meandom    mindom    maxdom   dfrange   modindx  label  \n",
       "0  0.565959 -1.564205 -0.708404 -1.431422 -1.419137 -1.454772   male  \n",
       "1 -0.294030 -1.561916 -0.708404 -1.418107 -1.405818 -1.014103   male  \n",
       "2  0.410480 -1.563866 -0.708404 -1.429203 -1.416917 -1.065344   male  \n",
       "3 -0.294030 -1.195367 -0.708404 -1.273867 -1.261532  0.614286   male  \n",
       "4  0.260185 -0.221660 -0.708404  0.124154  0.136933  0.289046   male  \n",
       "\n",
       "[5 rows x 21 columns]"
      ]
     },
     "execution_count": 4,
     "metadata": {},
     "output_type": "execute_result"
    }
   ],
   "source": [
    "data_scale.head()"
   ]
  },
  {
   "cell_type": "code",
   "execution_count": 29,
   "metadata": {
    "collapsed": true
   },
   "outputs": [
    {
     "name": "stdout",
     "output_type": "stream",
     "text": [
      "0\n",
      "meanfreq     -4.04925\n",
      "sd           0.427355\n",
      "median        -4.2249\n",
      "Q25           -2.5761\n",
      "Q75          -5.69361\n",
      "IQR         -0.214778\n",
      "skew          2.29331\n",
      "kurt          1.76295\n",
      "sp.ent     -0.0390828\n",
      "sfm          0.471575\n",
      "mode         -2.14121\n",
      "centroid     -4.04925\n",
      "meanfun      -1.81204\n",
      "minfun         -1.098\n",
      "maxfun       0.565959\n",
      "meandom       -1.5642\n",
      "mindom      -0.708404\n",
      "maxdom       -1.43142\n",
      "dfrange      -1.41914\n",
      "modindx      -1.45477\n",
      "label            male\n",
      "Name: 0, dtype: object\n",
      "1\n",
      "meanfreq    -3.84105\n",
      "sd          0.611669\n",
      "median      -3.99929\n",
      "Q25         -2.48688\n",
      "Q75         -5.58899\n",
      "IQR        -0.258485\n",
      "skew         4.54806\n",
      "kurt         4.43301\n",
      "sp.ent     -0.065236\n",
      "sfm         0.594431\n",
      "mode        -2.14121\n",
      "centroid    -3.84105\n",
      "meanfun     -1.07959\n",
      "minfun      -1.09153\n",
      "maxfun      -0.29403\n",
      "meandom     -1.56192\n",
      "mindom     -0.708404\n",
      "maxdom      -1.41811\n",
      "dfrange     -1.40582\n",
      "modindx      -1.0141\n",
      "label           male\n",
      "Name: 1, dtype: object\n",
      "2\n",
      "meanfreq    -3.46307\n",
      "sd           1.60385\n",
      "median      -4.09585\n",
      "Q25         -2.70699\n",
      "Q75          -3.9287\n",
      "IQR         0.909326\n",
      "skew         6.51366\n",
      "kurt         7.32621\n",
      "sp.ent      -1.08373\n",
      "sfm         0.398261\n",
      "mode        -2.14121\n",
      "centroid    -3.46307\n",
      "meanfun     -1.36537\n",
      "minfun       -1.1004\n",
      "maxfun       0.41048\n",
      "meandom     -1.56387\n",
      "mindom     -0.708404\n",
      "maxdom       -1.4292\n",
      "dfrange     -1.41692\n",
      "modindx     -1.06534\n",
      "label           male\n",
      "Name: 2, dtype: object\n",
      "3\n",
      "meanfreq   -0.992157\n",
      "sd          0.899998\n",
      "median     -0.759454\n",
      "Q25        -0.901418\n",
      "Q75        -0.711205\n",
      "IQR          0.63269\n",
      "skew       -0.449858\n",
      "kurt       -0.240099\n",
      "sp.ent       1.51638\n",
      "sfm          1.79734\n",
      "mode        -1.05458\n",
      "centroid   -0.992157\n",
      "meanfun     -1.66697\n",
      "minfun     -0.988934\n",
      "maxfun      -0.29403\n",
      "meandom     -1.19537\n",
      "mindom     -0.708404\n",
      "maxdom      -1.27387\n",
      "dfrange     -1.26153\n",
      "modindx     0.614286\n",
      "label           male\n",
      "Name: 3, dtype: object\n",
      "4\n",
      "meanfreq    -1.53064\n",
      "sd           1.32256\n",
      "median      -1.67695\n",
      "Q25          -1.2684\n",
      "Q75        -0.792029\n",
      "IQR          1.00559\n",
      "skew       -0.480911\n",
      "kurt        -0.23894\n",
      "sp.ent       1.70834\n",
      "sfm          2.11474\n",
      "mode       -0.790514\n",
      "centroid    -1.53064\n",
      "meanfun     -1.12723\n",
      "minfun      -1.03402\n",
      "maxfun      0.260185\n",
      "meandom     -0.22166\n",
      "mindom     -0.708404\n",
      "maxdom      0.124154\n",
      "dfrange     0.136933\n",
      "modindx     0.289046\n",
      "label           male\n",
      "Name: 4, dtype: object\n"
     ]
    }
   ],
   "source": [
    "data_scale_tf = []\n",
    "for ind, row in data_scale.head().iterrows():\n",
    "    print(ind)\n",
    "    print(row)\n",
    "    #row2\n",
    "    data_scale_tf.append(row)\n",
    "#data_scale_tf"
   ]
  },
  {
   "cell_type": "code",
   "execution_count": 42,
   "metadata": {
    "collapsed": false
   },
   "outputs": [
    {
     "data": {
      "text/plain": [
       "array([-4.04924806,  0.4273553 , -4.22490077, -2.57610164, -5.69360723,\n",
       "       -0.21477826,  2.29330585,  1.76294635, -0.03908279,  0.4715753 ,\n",
       "       -2.14121031, -4.04924806, -1.81203825, -1.0979981 ,  0.56595854,\n",
       "       -1.5642046 , -0.70840431, -1.43142165, -1.41913712, -1.45477229])"
      ]
     },
     "execution_count": 42,
     "metadata": {},
     "output_type": "execute_result"
    }
   ],
   "source": [
    "feat_scale_array = data_scale.drop('label',axis=1).as_matrix()\n",
    "feat_scale_array[0]"
   ]
  },
  {
   "cell_type": "code",
   "execution_count": 41,
   "metadata": {
    "collapsed": false
   },
   "outputs": [
    {
     "data": {
      "text/plain": [
       "array(['male', 'male', 'male', ..., 'female', 'female', 'female'], dtype=object)"
      ]
     },
     "execution_count": 41,
     "metadata": {},
     "output_type": "execute_result"
    }
   ],
   "source": [
    "label_array = data_scale['label'].as_matrix()\n",
    "label_array"
   ]
  },
  {
   "cell_type": "code",
   "execution_count": 52,
   "metadata": {
    "collapsed": false
   },
   "outputs": [],
   "source": [
    "#  male  --> [0,1]\n",
    "# female --> [1,0]\n",
    "\n",
    "target_array = []\n",
    "\n",
    "for label in label_array:\n",
    "    if label == 'male':\n",
    "        target = [0,1]\n",
    "    else:\n",
    "        target = [1,0]\n",
    "    target_array.append(target)"
   ]
  },
  {
   "cell_type": "code",
   "execution_count": 5,
   "metadata": {
    "collapsed": true
   },
   "outputs": [],
   "source": [
    "import tensorflow as tf"
   ]
  },
  {
   "cell_type": "code",
   "execution_count": 148,
   "metadata": {
    "collapsed": true
   },
   "outputs": [],
   "source": [
    "# Learning Parameters\n",
    "rate   =   0.010  # training rate\n",
    "epochs =  50      # number of full training cycles\n",
    "batch  = 100      # number of data points to train per batch"
   ]
  },
  {
   "cell_type": "code",
   "execution_count": 149,
   "metadata": {
    "collapsed": true
   },
   "outputs": [],
   "source": [
    "# Network Parameters\n",
    "n_hidden_1 = 256  # number of nodes in hidden layer 1\n",
    "n_hidden_2 = 256  # number of nodes in hidden layer 2\n",
    "n_input    = len(feat_scale_array[0])  # 20\n",
    "n_classes  = 2\n",
    "n_samples  = len(feat_scale_array)  # 3168"
   ]
  },
  {
   "cell_type": "code",
   "execution_count": 150,
   "metadata": {
    "collapsed": false
   },
   "outputs": [],
   "source": [
    "X = tf.placeholder('float', [None,n_input])\n",
    "y = tf.placeholder('float', [None,n_classes])"
   ]
  },
  {
   "cell_type": "code",
   "execution_count": 151,
   "metadata": {
    "collapsed": false
   },
   "outputs": [],
   "source": [
    "weights = {\n",
    "    'w1' : tf.Variable(tf.random_normal([n_input,    n_hidden_1])),\n",
    "    'w2' : tf.Variable(tf.random_normal([n_hidden_1, n_hidden_2])),\n",
    "    'out': tf.Variable(tf.random_normal([n_hidden_2, n_classes ]))\n",
    "}"
   ]
  },
  {
   "cell_type": "code",
   "execution_count": 152,
   "metadata": {
    "collapsed": true
   },
   "outputs": [],
   "source": [
    "biases = {\n",
    "    'b1' : tf.Variable(tf.random_normal([n_hidden_1])),\n",
    "    'b2' : tf.Variable(tf.random_normal([n_hidden_2])),\n",
    "    'out': tf.Variable(tf.random_normal([n_classes ]))\n",
    "}"
   ]
  },
  {
   "cell_type": "code",
   "execution_count": 153,
   "metadata": {
    "collapsed": true
   },
   "outputs": [],
   "source": [
    "def multilayer_perceptron(X, weights, biases):\n",
    "    \n",
    "    # Hidden Layer 1\n",
    "    layer1 = tf.matmul(X, weights['w1'])\n",
    "    layer1 = tf.add(layer1, biases['b1'])\n",
    "    layer1 = tf.nn.relu(layer1)\n",
    "    \n",
    "    # Hidden Layer 2\n",
    "    layer2 = tf.matmul(layer1, weights['w2'])\n",
    "    layer2 = tf.add(layer2, biases['b2'])\n",
    "    layer2 = tf.nn.relu(layer2) \n",
    "    \n",
    "    # Output Layer\n",
    "    out = tf.matmul(layer2, weights['out'])\n",
    "    out = tf.add(out, biases['out'])\n",
    "    \n",
    "    return out"
   ]
  },
  {
   "cell_type": "code",
   "execution_count": 154,
   "metadata": {
    "collapsed": false
   },
   "outputs": [],
   "source": [
    "model = multilayer_perceptron(X, weights, biases)"
   ]
  },
  {
   "cell_type": "code",
   "execution_count": 155,
   "metadata": {
    "collapsed": true
   },
   "outputs": [],
   "source": [
    "f_cost = tf.reduce_mean(tf.nn.softmax_cross_entropy_with_logits(model, y))"
   ]
  },
  {
   "cell_type": "code",
   "execution_count": 156,
   "metadata": {
    "collapsed": false
   },
   "outputs": [],
   "source": [
    "f_optimizer = tf.train.AdamOptimizer(learning_rate=rate).minimize(f_cost)"
   ]
  },
  {
   "cell_type": "code",
   "execution_count": 157,
   "metadata": {
    "collapsed": true
   },
   "outputs": [],
   "source": [
    "init = tf.initialize_all_variables()"
   ]
  },
  {
   "cell_type": "code",
   "execution_count": 158,
   "metadata": {
    "collapsed": false
   },
   "outputs": [
    {
     "name": "stdout",
     "output_type": "stream",
     "text": [
      "Epoch 1: cost=613.6398\n",
      "Epoch 2: cost=517.7230\n",
      "Epoch 3: cost=25.2130\n",
      "Epoch 4: cost=18.6093\n",
      "Epoch 5: cost=9.7713\n",
      "Epoch 6: cost=8.7467\n",
      "Epoch 7: cost=6.9812\n",
      "Epoch 8: cost=6.0803\n",
      "Epoch 9: cost=5.3085\n",
      "Epoch 10: cost=4.5552\n",
      "Epoch 11: cost=3.9749\n",
      "Epoch 12: cost=2.9694\n",
      "Epoch 13: cost=2.2598\n",
      "Epoch 14: cost=2.4583\n",
      "Epoch 15: cost=3.1150\n",
      "Epoch 16: cost=3.3205\n",
      "Epoch 17: cost=1.7000\n",
      "Epoch 18: cost=1.3578\n",
      "Epoch 19: cost=1.6927\n",
      "Epoch 20: cost=1.3635\n",
      "Epoch 21: cost=0.7567\n",
      "Epoch 22: cost=0.2653\n",
      "Epoch 23: cost=0.1359\n",
      "Epoch 24: cost=0.1087\n",
      "Epoch 25: cost=0.1143\n",
      "Epoch 26: cost=0.0837\n",
      "Epoch 27: cost=0.0722\n",
      "Epoch 28: cost=0.0597\n",
      "Epoch 29: cost=0.0476\n",
      "Epoch 30: cost=0.0400\n",
      "Epoch 31: cost=0.0374\n",
      "Epoch 32: cost=0.0274\n",
      "Epoch 33: cost=0.0160\n",
      "Epoch 34: cost=0.0079\n",
      "Epoch 35: cost=0.0117\n",
      "Epoch 36: cost=0.0000\n",
      "Epoch 37: cost=0.0000\n",
      "Epoch 38: cost=0.0000\n",
      "Epoch 39: cost=0.0000\n",
      "Epoch 40: cost=0.0000\n",
      "Epoch 41: cost=0.0000\n",
      "Epoch 42: cost=0.0000\n",
      "Epoch 43: cost=0.0000\n",
      "Epoch 44: cost=0.0000\n",
      "Epoch 45: cost=0.0000\n",
      "Epoch 46: cost=0.0000\n",
      "Epoch 47: cost=0.0000\n",
      "Epoch 48: cost=0.0000\n",
      "Epoch 49: cost=0.0000\n",
      "Epoch 50: cost=0.0000\n",
      "Model completed successfully!\n"
     ]
    }
   ],
   "source": [
    "s = tf.InteractiveSession()\n",
    "\n",
    "s.run(init)\n",
    "\n",
    "for epoch in range(epochs):\n",
    "   \n",
    "    cost_avg = 0.\n",
    "    \n",
    "    batch_total = int(n_samples/batch)\n",
    "    \n",
    "    count = 0\n",
    "    for batch_i in range(batch_total):\n",
    "        X_batch_i = feat_scale_array[count : count+batch]\n",
    "        y_batch_i =     target_array[count : count+batch]\n",
    "        count += batch\n",
    "        \n",
    "        _, cost = s.run([f_optimizer,f_cost], feed_dict={X:X_batch_i, y:y_batch_i})\n",
    "        \n",
    "        cost_avg += cost / batch_total\n",
    "        \n",
    "    print('Epoch {}: cost={:.4f}'.format(epoch+1, cost_avg))\n",
    "\n",
    "print('Model completed successfully!')"
   ]
  },
  {
   "cell_type": "code",
   "execution_count": 159,
   "metadata": {
    "collapsed": false
   },
   "outputs": [],
   "source": [
    "correct_target = tf.equal(tf.argmax(model, 1), tf.argmax(y, 1))\n",
    "correct_target = tf.cast(correct_target, 'float')"
   ]
  },
  {
   "cell_type": "code",
   "execution_count": 160,
   "metadata": {
    "collapsed": true
   },
   "outputs": [],
   "source": [
    "accuracy = tf.reduce_mean(correct_target)"
   ]
  },
  {
   "cell_type": "code",
   "execution_count": 161,
   "metadata": {
    "collapsed": false
   },
   "outputs": [
    {
     "name": "stdout",
     "output_type": "stream",
     "text": [
      "Accuracy is 99.94%\n"
     ]
    }
   ],
   "source": [
    "print('Accuracy is {:.2f}%'.format(100*accuracy.eval({X:feat_scale_array, y:target_array})))"
   ]
  }
 ],
 "metadata": {
  "anaconda-cloud": {},
  "kernelspec": {
   "display_name": "Python [conda root]",
   "language": "python",
   "name": "conda-root-py"
  },
  "language_info": {
   "codemirror_mode": {
    "name": "ipython",
    "version": 3
   },
   "file_extension": ".py",
   "mimetype": "text/x-python",
   "name": "python",
   "nbconvert_exporter": "python",
   "pygments_lexer": "ipython3",
   "version": "3.5.2"
  }
 },
 "nbformat": 4,
 "nbformat_minor": 1
}
