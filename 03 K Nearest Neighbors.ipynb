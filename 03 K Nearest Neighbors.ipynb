{
 "cells": [
  {
   "cell_type": "markdown",
   "metadata": {},
   "source": [
    "# Gender Recognition by Voice | 03 | K Nearest Neighbors"
   ]
  },
  {
   "cell_type": "markdown",
   "metadata": {},
   "source": [
    "## KNN Method Overview\n",
    "The K Nearest Neighbors (KNN) classification method is of a particular type of classifier that relies on observing the \"field\" of data rather than using linear or logistic regression to fit a curve to a set of data. Regression methods (curve fitting) attempt to separate data by creating a wall between the prediction categories. However, if a data set does not lend itself to being easily separated in this manner, a more flexible method such as KNN may prove useful.\n",
    "\n",
    "To make a prediction, KNN looks around the data field from the perspective of a point in question and classifies itself depending on what is most prevelant in that area. In the example figure below, KNN (with the parameter k = 3) determines that, of the three (3) closest points to itself, most are blue and therefore it must be blue as well. As seen in notebook 01, our voice data is well grouped and therefore this type of classification should prove highly effective.\n",
    "\n",
    "![knn](img/knn.png)\n",
    "###### Figure on the left shows the KNN method where k = 3. Of the three (3) closest points, two are blue, thus informing the KNN model that any future points at this location are likely to be blue as well. The plot on the right shows how KNN has evaluated the entire field.\n",
    "*Image from An Introduction to Statistical Learning, Sixth Printing (Figure 2.14)*"
   ]
  },
  {
   "cell_type": "markdown",
   "metadata": {},
   "source": [
    "## Import Libraries"
   ]
  },
  {
   "cell_type": "code",
   "execution_count": 1,
   "metadata": {
    "collapsed": true
   },
   "outputs": [],
   "source": [
    "import obj\n",
    "import numpy as np\n",
    "import pandas as pd\n",
    "import matplotlib.pyplot as plt\n",
    "import seaborn as sns\n",
    "\n",
    "# Parameters\n",
    "pd.set_option('display.max_columns', 30)  # set pandas to display all columns\n",
    "sns.set_style('whitegrid')  # set plot backgrounds to white\n",
    "\n",
    "# Set graphics to appear inline with notebook code\n",
    "%matplotlib inline"
   ]
  },
  {
   "cell_type": "markdown",
   "metadata": {},
   "source": [
    "Import scaled data from previous notebook."
   ]
  },
  {
   "cell_type": "code",
   "execution_count": 2,
   "metadata": {
    "collapsed": false
   },
   "outputs": [],
   "source": [
    "data_scale = obj.load('var/data_scale')"
   ]
  },
  {
   "cell_type": "markdown",
   "metadata": {},
   "source": [
    "## Split data into Training set and Testing set\n",
    "It is important to split the data into two distinct sets. The *training set* is a subset of the total data and will be used to shape the KNN model. The *testing set* is the remainder of the data and will be used to evaluate the quality of the model. The testing data will be kept separate so as to mimic \"fresh samples\" that our trained model will need to classify. However, because we know their true classification, we can compare their known class with their predicted class to quantify the success of our model."
   ]
  },
  {
   "cell_type": "code",
   "execution_count": 3,
   "metadata": {
    "collapsed": false
   },
   "outputs": [],
   "source": [
    "from sklearn.model_selection import train_test_split\n",
    "\n",
    "X_train, X_test, y_train, y_test = train_test_split(data_scale.drop('label',axis=1), data_scale['label'],\n",
    "                                                    test_size=0.33)"
   ]
  },
  {
   "cell_type": "markdown",
   "metadata": {},
   "source": [
    "## Create KNN model and determine best parameters\n",
    "The *k* parameter is extremely important in the KNN classifier model. A *k* value that is too low will overfit the data, missing general trends that better distinguish the different classes. Conversely, a *k* value that is too high will underfit the data and lead to a classification model that creates loose and ill-defined boundaries around key features in the data field. \n",
    "\n",
    "To find the optimal value of *k*, we will use a simple brute-force strategy. Namely, we will try many values of *k* and evaluate each, settling for the one with the best prediction results.\n",
    "\n",
    "### Test various values"
   ]
  },
  {
   "cell_type": "code",
   "execution_count": 4,
   "metadata": {
    "collapsed": true
   },
   "outputs": [],
   "source": [
    "from sklearn.neighbors import KNeighborsClassifier\n",
    "\n",
    "error_rate = []\n",
    "kvals = range(1,20)  # range of k parameters to test\n",
    "\n",
    "for i in kvals:\n",
    "    knn = KNeighborsClassifier(n_neighbors=i)\n",
    "    knn.fit(X_train,y_train)\n",
    "    y_pred_i = knn.predict(X_test)\n",
    "    error_rate.append(np.mean(y_pred_i != y_test))"
   ]
  },
  {
   "cell_type": "markdown",
   "metadata": {},
   "source": [
    "### Determine optimal value\n",
    "After evaluating many values of *k*, we can easily determine which value yields the best results. The plot below visualizes our process."
   ]
  },
  {
   "cell_type": "code",
   "execution_count": 5,
   "metadata": {
    "collapsed": false
   },
   "outputs": [
    {
     "name": "stdout",
     "output_type": "stream",
     "text": [
      "Lowest error of 0.0258126195029 occurs at k=1.\n"
     ]
    },
    {
     "data": {
      "image/png": "[encoded data removed]",
      "text/plain": [
       "<matplotlib.figure.Figure at 0x7fcffe9917f0>"
      ]
     },
     "metadata": {},
     "output_type": "display_data"
    }
   ],
   "source": [
    "plt.plot(kvals, error_rate, color='blue', linestyle='dashed', marker='o',\n",
    "         markerfacecolor='red', markersize=10)\n",
    "plt.title('Error Rate vs. K Value')\n",
    "plt.xlabel('K')\n",
    "plt.ylabel('Error Rate')\n",
    "\n",
    "# Determine location of best performance\n",
    "kloc = error_rate.index(min(error_rate))\n",
    "print('Lowest error of %s occurs at k=%s.' % (error_rate[kloc], kvals[kloc]))"
   ]
  },
  {
   "cell_type": "markdown",
   "metadata": {},
   "source": [
    "## Create model using best parameters and evaluate performance\n",
    "Using our optimal *k* value, we will run the analysis again and proceed to quantify our classification accuracy."
   ]
  },
  {
   "cell_type": "code",
   "execution_count": 6,
   "metadata": {
    "collapsed": false
   },
   "outputs": [
    {
     "name": "stdout",
     "output_type": "stream",
     "text": [
      "Confusion Matrix:\n",
      "[[478  15]\n",
      " [ 12 541]]\n",
      "\n",
      "\n",
      "Classification Report:\n",
      "             precision    recall  f1-score   support\n",
      "\n",
      "     female       0.98      0.97      0.97       493\n",
      "       male       0.97      0.98      0.98       553\n",
      "\n",
      "avg / total       0.97      0.97      0.97      1046\n",
      "\n"
     ]
    }
   ],
   "source": [
    "# Instantiate model with optimal k value\n",
    "knn = KNeighborsClassifier(n_neighbors=kvals[kloc])\n",
    "\n",
    "# Fit model to test data\n",
    "knn.fit(X_train,y_train)\n",
    "\n",
    "# Create predictions from test data\n",
    "y_pred = knn.predict(X_test)\n",
    "\n",
    "# Run classification metrics\n",
    "from sklearn.metrics import classification_report, confusion_matrix\n",
    "\n",
    "print('Confusion Matrix:')\n",
    "print(confusion_matrix(y_test, y_pred))\n",
    "print('\\n')\n",
    "print('Classification Report:')\n",
    "print(classification_report(y_test, y_pred))"
   ]
  },
  {
   "cell_type": "markdown",
   "metadata": {},
   "source": [
    "Confusion matricies and classification reports are great ways to understand the accuracy of a classifier model. Explaining their use is beyond the scope of this project, but it is easy to see that this model does a fair job of classifying our data, scoring an average of %97 in all three categories.\n",
    "\n",
    "## Try analysis with Uncorrelated Data\n",
    "As mentioned in notebook 02, it is possible that our prediction may be hampered by the correlation of some features within the data. We will run the same KNN optimization process as above and see if there is a significant difference between the results."
   ]
  },
  {
   "cell_type": "code",
   "execution_count": 7,
   "metadata": {
    "collapsed": false
   },
   "outputs": [
    {
     "name": "stdout",
     "output_type": "stream",
     "text": [
      "Lowest error of 0.0239005736138 occurs at k=5.\n"
     ]
    },
    {
     "data": {
      "image/png": "[encoded data removed]",
      "text/plain": [
       "<matplotlib.figure.Figure at 0x7fcfff2f7d30>"
      ]
     },
     "metadata": {},
     "output_type": "display_data"
    }
   ],
   "source": [
    "# Load data set with correlated features removed\n",
    "data_scaleNoCorr = obj.load('var/data_scaleNoCorr')\n",
    "\n",
    "# Split data between testing and training sets\n",
    "X_train, X_test, y_train, y_test = train_test_split(data_scaleNoCorr.drop('label',axis=1), data_scaleNoCorr['label'],\n",
    "                                                    test_size=0.33)\n",
    "\n",
    "# Test many values of k\n",
    "error_rate = []\n",
    "kvals = range(1,20)\n",
    "\n",
    "for i in kvals:\n",
    "    knn = KNeighborsClassifier(n_neighbors=i)\n",
    "    knn.fit(X_train,y_train)\n",
    "    y_pred_i = knn.predict(X_test)\n",
    "    error_rate.append(np.mean(y_pred_i != y_test))\n",
    "\n",
    "# Show plot of test results\n",
    "plt.plot(kvals, error_rate, color='blue', linestyle='dashed', marker='o',\n",
    "         markerfacecolor='red', markersize=10)\n",
    "plt.title('Error Rate vs. K Value')\n",
    "plt.xlabel('K')\n",
    "plt.ylabel('Error Rate')\n",
    "\n",
    "# Determine location of best performance\n",
    "kloc = error_rate.index(min(error_rate))\n",
    "print('Lowest error of %s occurs at k=%s.' % (error_rate[kloc], kvals[kloc]))"
   ]
  },
  {
   "cell_type": "code",
   "execution_count": 8,
   "metadata": {
    "collapsed": false
   },
   "outputs": [
    {
     "name": "stdout",
     "output_type": "stream",
     "text": [
      "Confusion Matrix:\n",
      "[[529  16]\n",
      " [  9 492]]\n",
      "\n",
      "\n",
      "Classification Report:\n",
      "             precision    recall  f1-score   support\n",
      "\n",
      "     female       0.98      0.97      0.98       545\n",
      "       male       0.97      0.98      0.98       501\n",
      "\n",
      "avg / total       0.98      0.98      0.98      1046\n",
      "\n"
     ]
    }
   ],
   "source": [
    "# Use classification metrics to determine success of method\n",
    "knn = KNeighborsClassifier(n_neighbors=kvals[kloc])\n",
    "knn.fit(X_train,y_train)\n",
    "y_pred = knn.predict(X_test)\n",
    "\n",
    "print('Confusion Matrix:')\n",
    "print(confusion_matrix(y_test, y_pred))\n",
    "print('\\n')\n",
    "print('Classification Report:')\n",
    "print(classification_report(y_test, y_pred))"
   ]
  },
  {
   "cell_type": "markdown",
   "metadata": {},
   "source": [
    "As seen from the reports above, these methods are extremely similar in quality. The first model did not seem to respond negatively overall to the inclusion of correlated features.\n",
    "\n",
    "## Conclusion\n",
    "For our data set, the KNN method was very successful in differentiating between male and female voices, given the acoustic properties provided. However, there is no room for improvement in this model. If we desire to push above the 0.97 f1 score, a different method must be used. We will see if the *Random Forest* or *Neural Network* methods can provide even better results."
   ]
  }
 ],
 "metadata": {
  "anaconda-cloud": {},
  "kernelspec": {
   "display_name": "Python [conda root]",
   "language": "python",
   "name": "conda-root-py"
  },
  "language_info": {
   "codemirror_mode": {
    "name": "ipython",
    "version": 3
   },
   "file_extension": ".py",
   "mimetype": "text/x-python",
   "name": "python",
   "nbconvert_exporter": "python",
   "pygments_lexer": "ipython3",
   "version": "3.5.2"
  }
 },
 "nbformat": 4,
 "nbformat_minor": 1
}
